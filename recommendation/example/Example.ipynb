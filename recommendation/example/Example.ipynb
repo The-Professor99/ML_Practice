{
 "cells": [
  {
   "cell_type": "code",
   "execution_count": 1,
   "id": "8835baaa-458b-4520-8869-ebd416235561",
   "metadata": {},
   "outputs": [
    {
     "name": "stdout",
     "output_type": "stream",
     "text": [
      "C:\\Users\\Ihechi Festus\\Documents\\ML\\Practice\\recommendation\n"
     ]
    },
    {
     "name": "stderr",
     "output_type": "stream",
     "text": [
      "C:\\Users\\Ihechi Festus\\Documents\\ML\\ml_env\\Lib\\site-packages\\IPython\\core\\magics\\osm.py:417: UserWarning: This is now an optional IPython functionality, setting dhist requires you to install the `pickleshare` library.\n",
      "  self.shell.db['dhist'] = compress_dhist(dhist)[-100:]\n"
     ]
    }
   ],
   "source": [
    "%cd .."
   ]
  },
  {
   "cell_type": "code",
   "execution_count": 2,
   "id": "9817a7a6-a420-4456-8051-6e8ecc3a8095",
   "metadata": {},
   "outputs": [],
   "source": [
    "import os\n",
    "import re\n",
    "import numpy as np\n",
    "import pandas as pd\n",
    "from recommendation_system import RecommenderSystem"
   ]
  },
  {
   "cell_type": "code",
   "execution_count": 3,
   "id": "827c846e-15a4-46a2-9fc1-40cb40da5675",
   "metadata": {},
   "outputs": [],
   "source": [
    "pd.options.mode.copy_on_write = True"
   ]
  },
  {
   "cell_type": "markdown",
   "id": "dcab33ab-4eb8-4995-811e-f7235003440b",
   "metadata": {},
   "source": [
    "### Get Files"
   ]
  },
  {
   "cell_type": "code",
   "execution_count": 4,
   "id": "c47bbc09-61d7-4d2a-a38f-43a71a5c3f70",
   "metadata": {},
   "outputs": [],
   "source": [
    "ratings = pd.read_csv(os.path.join(\"example\", \"dataset\", \"ratings.csv\"), \\\n",
    "                      usecols=[\"userId\", \"movieId\", \"rating\"]).rename(columns={\"movieId\": \"itemId\"})\n",
    "items = pd.read_csv(os.path.join(\"example\", \"dataset\", \"movies.csv\")).rename( \\\n",
    "                      columns={\"movieId\": \"itemId\"})\n",
    "directors = pd.read_csv(os.path.join(\"example\", \"dataset\", \"directors.csv\"), \\\n",
    "                      usecols=[\"movieId\", \"director\"]).rename(columns={\"movieId\": \"itemId\"})"
   ]
  },
  {
   "cell_type": "markdown",
   "id": "eccf1c24-8dfb-4c2d-b6e9-6a439eeb2492",
   "metadata": {},
   "source": [
    "### Cleaning and Preparing Data"
   ]
  },
  {
   "cell_type": "code",
   "execution_count": 5,
   "id": "07db3eb0-c532-4f41-a39e-1bb4c2c06828",
   "metadata": {},
   "outputs": [],
   "source": [
    "missing_years = {\n",
    "        'Babylon 5': '1995',\n",
    "        'Ready Player One': '2018',\n",
    "        'Hyena Road': '2015',\n",
    "        'The Adventures of Sherlock Holmes and Doctor Watson': '1980',\n",
    "        'Nocturnal Animals': '2016',\n",
    "        'Paterson': '2016',\n",
    "        'Moonlight': '2016',\n",
    "        'The OA': '2016',\n",
    "        'Cosmos': '2019',\n",
    "        'Maria Bamford: Old Baby': '2017',\n",
    "        'Death Note: Desu nôto (2006–2007)': '2006',\n",
    "        'Generation Iron 2': '2017',\n",
    "        'Black Mirror': '2011'\n",
    "    }\n",
    "\n",
    "def split_title(title):\n",
    "    \"\"\"\n",
    "    Given title, split into Pandas Series of [title, year]\n",
    "    eg -> title: Toy Story (1995)\n",
    "    Returns pd.Series[\"Toy Story\", 1995]\n",
    "\n",
    "    if year in given title not valid, check for release year \\\n",
    "    in missing_years dict, if not found, get user to input release year\n",
    "    \"\"\"\n",
    "    match = re.search(r\"\\((\\d{4})\\)\", title)\n",
    "    if match:\n",
    "        movie_title = title.replace(match.group(0), \"\").strip()\n",
    "        year = match.group(1).strip()\n",
    "    else:\n",
    "        movie_title = title.strip()\n",
    "        year = missing_years.get(movie_title, None)\n",
    "        if not year:\n",
    "            year = input(f\"Enter movie year for {movie_title}: \")\n",
    "            missing_years[movie_title] = year\n",
    "    return pd.Series([movie_title, int(year)])"
   ]
  },
  {
   "cell_type": "code",
   "execution_count": 6,
   "id": "000e3455-a112-48ae-8a55-c4944e9b8064",
   "metadata": {},
   "outputs": [],
   "source": [
    "items[[\"title\", \"year\"]] = items[\"title\"].apply(split_title)\n",
    "items = items.merge(directors, on=\"itemId\")[[\"itemId\", \"title\", \"year\", \"director\", \"genres\"]].dropna()\n",
    "\n",
    "# ratings is 5-scale, multiply by 2 to make it 10-scale rating(You can use 5-scale, I prefer 10-scale ratings)\n",
    "ratings[\"rating\"] = ratings[\"rating\"].mul(2)"
   ]
  },
  {
   "cell_type": "markdown",
   "id": "b7130627-11a8-434e-9c29-7904269f3575",
   "metadata": {},
   "source": [
    "ratings df has columns \\[userId, itemId, rating]. \\\n",
    "items df has columns \\[itemsId].extend(\\[title, director]) - \\[title, director] are given as item identifier. This is cause two items may have the same title, and a director may have multiple items. a combination of both usually refer to a single item"
   ]
  },
  {
   "cell_type": "markdown",
   "id": "da0f4fb7-05cb-4db3-b9fd-dbb30e684bc5",
   "metadata": {},
   "source": [
    "### Instantiate RecommenderSystem Class"
   ]
  },
  {
   "cell_type": "code",
   "execution_count": 19,
   "id": "d3cfc7e8-6ee5-464b-88df-974a5b46a2ba",
   "metadata": {},
   "outputs": [],
   "source": [
    "file_path = \"recommender_system_ratings.pkl\"\n",
    "recommender_system = RecommenderSystem(ratings, items, file_path, \"dummy_id\", item_min=30, user_min=50, \\\n",
    "                                       item_identifier=[\"title\", \"director\"], rating_mid_point=6, max_rating=10)"
   ]
  },
  {
   "cell_type": "markdown",
   "id": "150b942f-ac30-4c05-a4e1-b7ded8dc7768",
   "metadata": {},
   "source": [
    "#### Clean and Train Model on Dataset"
   ]
  },
  {
   "cell_type": "code",
   "execution_count": 9,
   "id": "ed066d4e-9413-4eed-8674-6c1674514337",
   "metadata": {},
   "outputs": [
    {
     "name": "stdout",
     "output_type": "stream",
     "text": [
      "Train success\n"
     ]
    }
   ],
   "source": [
    "recommender_system.clean_up_datasets()\n",
    "recommender_system.train_models_and_pivot_df()"
   ]
  },
  {
   "cell_type": "markdown",
   "id": "acdfb4c6-50f3-46b5-8afe-3ce3b98b5597",
   "metadata": {},
   "source": [
    "#### Get Recommendations"
   ]
  },
  {
   "cell_type": "code",
   "execution_count": 10,
   "id": "ac978631-1b01-4465-b795-b8286e39141e",
   "metadata": {
    "scrolled": true
   },
   "outputs": [
    {
     "data": {
      "text/plain": [
       "[['avengers, the', 'joss whedon'],\n",
       " ['matrix, the', 'lana wachowski'],\n",
       " ['reservoir dogs', 'quentin tarantino'],\n",
       " ['iron man', 'jon favreau'],\n",
       " ['star wars: episode v - the empire strikes back', 'irvin kershner'],\n",
       " ['star wars: episode vi - return of the jedi', 'richard marquand'],\n",
       " ['iron man 2', 'jon favreau'],\n",
       " ['star wars: episode iv - a new hope', 'george lucas'],\n",
       " ['pirates of the caribbean: the curse of the black pearl', 'gore verbinski'],\n",
       " ['interstellar', 'christopher nolan'],\n",
       " ['avatar', 'james cameron'],\n",
       " ['indiana jones and the last crusade', 'steven spielberg'],\n",
       " ['django unchained', 'quentin tarantino'],\n",
       " ['bourne identity, the', 'doug liman'],\n",
       " ['x-men: first class', 'matthew vaughn'],\n",
       " ['forrest gump', 'robert zemeckis'],\n",
       " ['guardians of the galaxy', 'james gunn'],\n",
       " ['departed, the', 'martin scorsese'],\n",
       " ['harry potter and the goblet of fire', 'mike newell'],\n",
       " ['lord of the rings: the fellowship of the ring, the', 'peter jackson'],\n",
       " ['inglourious basterds', 'quentin tarantino'],\n",
       " ['prestige, the', 'christopher nolan'],\n",
       " ['sherlock holmes', 'guy ritchie'],\n",
       " ['300', 'zack snyder'],\n",
       " ['jurassic park', 'steven spielberg'],\n",
       " ['kill bill: vol. 2', 'quentin tarantino'],\n",
       " ['minority report', 'steven spielberg'],\n",
       " ['fargo', 'joel coen'],\n",
       " ['memento', 'christopher nolan'],\n",
       " ['shawshank redemption, the', 'frank darabont'],\n",
       " ['harry potter and the deathly hallows: part 2', 'david yates'],\n",
       " ['harry potter and the order of the phoenix', 'david yates'],\n",
       " ['lord of the rings: the two towers, the', 'peter jackson'],\n",
       " ['mad max: fury road', 'george miller'],\n",
       " ['zombieland', 'ruben fleischer'],\n",
       " ['raiders of the lost ark (indiana jones and the raiders of the lost ark)',\n",
       "  'steven spielberg'],\n",
       " ['the martian', 'ridley scott'],\n",
       " ['catch me if you can', 'steven spielberg'],\n",
       " ['shutter island', 'martin scorsese'],\n",
       " ['spider-man', 'sam raimi'],\n",
       " ['terminator, the', 'james cameron'],\n",
       " ['terminator 2: judgment day', 'james cameron'],\n",
       " ['harry potter and the half-blood prince', 'david yates'],\n",
       " [\"pirates of the caribbean: at world's end\", 'gore verbinski'],\n",
       " [\"pirates of the caribbean: dead man's chest\", 'gore verbinski'],\n",
       " ['hellboy', 'guillermo del toro'],\n",
       " ['saving private ryan', 'steven spielberg'],\n",
       " ['incredibles, the', 'brad bird'],\n",
       " ['usual suspects, the', 'bryan singer'],\n",
       " ['edge of tomorrow', 'doug liman']]"
      ]
     },
     "execution_count": 10,
     "metadata": {},
     "output_type": "execute_result"
    }
   ],
   "source": [
    "max_recommendations = 50\n",
    "# Each function call generates somewhat different recommendations\n",
    "recommender_system.generate_user_recommendations(max_recommendations)"
   ]
  },
  {
   "cell_type": "markdown",
   "id": "5527ad26-13be-4c36-a7c9-e07a2ca174bd",
   "metadata": {},
   "source": [
    "#### Update Ratings"
   ]
  },
  {
   "cell_type": "code",
   "execution_count": 11,
   "id": "fdee4687-9a72-4fcf-99d0-286cfcc983cb",
   "metadata": {},
   "outputs": [
    {
     "name": "stdout",
     "output_type": "stream",
     "text": [
      "Your ratings dataset has been updated!\n"
     ]
    }
   ],
   "source": [
    "rating = 10 # what you rate the item\n",
    "item = ['dark knight rises, the', 'christopher nolan'] # follows item_identifier pattern\n",
    "recommender_system.update_users_ratings(item, rating)"
   ]
  },
  {
   "cell_type": "markdown",
   "id": "e03d519c-8230-4823-94b5-fefaa07985d2",
   "metadata": {},
   "source": [
    "After updating ratings, you can rerun the above cell block(`recommender_system.generate_user_recommendations`) to get newer recommendations based on your updated ratings\n"
   ]
  },
  {
   "cell_type": "markdown",
   "id": "4a8d02b8-63bf-4672-ab37-15247d762b32",
   "metadata": {},
   "source": [
    "#### View Your Ratings\n",
    "should you want to"
   ]
  },
  {
   "cell_type": "code",
   "execution_count": 20,
   "id": "456ee278-84a1-4170-b25d-c6348594af0c",
   "metadata": {},
   "outputs": [
    {
     "data": {
      "text/html": [
       "<div>\n",
       "<style scoped>\n",
       "    .dataframe tbody tr th:only-of-type {\n",
       "        vertical-align: middle;\n",
       "    }\n",
       "\n",
       "    .dataframe tbody tr th {\n",
       "        vertical-align: top;\n",
       "    }\n",
       "\n",
       "    .dataframe thead th {\n",
       "        text-align: right;\n",
       "    }\n",
       "</style>\n",
       "<table border=\"1\" class=\"dataframe\">\n",
       "  <thead>\n",
       "    <tr style=\"text-align: right;\">\n",
       "      <th></th>\n",
       "      <th>itemId</th>\n",
       "      <th>rating</th>\n",
       "      <th>userId</th>\n",
       "      <th>title</th>\n",
       "      <th>director</th>\n",
       "    </tr>\n",
       "  </thead>\n",
       "  <tbody>\n",
       "  </tbody>\n",
       "</table>\n",
       "</div>"
      ],
      "text/plain": [
       "Empty DataFrame\n",
       "Columns: [itemId, rating, userId, title, director]\n",
       "Index: []"
      ]
     },
     "execution_count": 20,
     "metadata": {},
     "output_type": "execute_result"
    }
   ],
   "source": [
    "recommender_system.retrieve_user_ratings()#[[\"title\", \"director\"]]#.to_numpy()[:, 1]"
   ]
  },
  {
   "cell_type": "code",
   "execution_count": null,
   "id": "3cac38be-60f0-4a93-9b92-4559b8e79303",
   "metadata": {},
   "outputs": [],
   "source": []
  }
 ],
 "metadata": {
  "kernelspec": {
   "display_name": "Python 3 (ipykernel)",
   "language": "python",
   "name": "python3"
  },
  "language_info": {
   "codemirror_mode": {
    "name": "ipython",
    "version": 3
   },
   "file_extension": ".py",
   "mimetype": "text/x-python",
   "name": "python",
   "nbconvert_exporter": "python",
   "pygments_lexer": "ipython3",
   "version": "3.12.2"
  }
 },
 "nbformat": 4,
 "nbformat_minor": 5
}
